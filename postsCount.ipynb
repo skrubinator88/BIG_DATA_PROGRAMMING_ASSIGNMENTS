{
 "cells": [
  {
   "cell_type": "code",
   "execution_count": 4,
   "metadata": {},
   "outputs": [
    {
     "name": "stdout",
     "output_type": "stream",
     "text": [
      "[u'  <row Id=', u'614', u' PostHistoryTypeId=', u'2', u' PostId=', u'229', u' RevisionGUID=', u'424ff205-e32a-4d32-8bbd-2981c2ae1aa8', u' CreationDate=', u'2014-06-01T19:48:41.693', u' UserId=', u'21', u' Text=', u'This is kind of like asking about the tradeoffs between frying pan and your drawer of silverware. They are not two things you compare, really. You might use them together as part of a larger project. &#xD;&#xA;&#xD;&#xA;Hadoop itself is not one thing, but a name for a federation of services, like HDFS, Hive, HBase, MapReduce, etc. Storm is something you use with some of these services, like HDFS or HBase. It is a stream-processing framework. There are others within the extended Hadoop ecosystem, like Spark Streaming.&#xD;&#xA;&#xD;&#xA;When would you choose a stream-processing framework? when you need to react to new data in near-real-time. If you need this kind of tool, you deploy this kind of tool, too.', u' />']\n"
     ]
    }
   ],
   "source": [
    "#Using the PostHistory file, count the number of Posts that feature the words “Spark” and\n",
    "#“Scala”. Output this to the screen. (20 points)\n",
    "\n",
    "import findspark\n",
    "findspark.init()\n",
    "\n",
    "import pyspark\n",
    "sc = pyspark.SparkContext.getOrCreate()\n",
    "\n",
    "postsRDD = sc.textFile(\"PostHistory.xml\").map(lambda x: x.split(\"\\<row\")[0]).filter(lambda x: (\"Spark\" in x) or (\"Scala\" in x)).map(lambda x: x.split(\"\\\"\")).filter(lambda x: len(x) > 4).collect()\n",
    "print(len(postsRDD))\n",
    "\n"
   ]
  },
  {
   "cell_type": "code",
   "execution_count": null,
   "metadata": {},
   "outputs": [],
   "source": []
  }
 ],
 "metadata": {
  "kernelspec": {
   "display_name": "Python 2",
   "language": "python",
   "name": "python2"
  },
  "language_info": {
   "codemirror_mode": {
    "name": "ipython",
    "version": 2
   },
   "file_extension": ".py",
   "mimetype": "text/x-python",
   "name": "python",
   "nbconvert_exporter": "python",
   "pygments_lexer": "ipython2",
   "version": "2.7.15+"
  }
 },
 "nbformat": 4,
 "nbformat_minor": 2
}
