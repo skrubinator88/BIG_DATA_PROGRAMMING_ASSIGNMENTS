{
 "cells": [
  {
   "cell_type": "code",
   "execution_count": 5,
   "metadata": {},
   "outputs": [
    {
     "name": "stdout",
     "output_type": "stream",
     "text": [
      "14239\n"
     ]
    }
   ],
   "source": [
    "# Using the Users.xml file, provide the count for all users which joined (CreationDate) in 2017. (30\n",
    "#points). Output this to the screen.\n",
    "\n",
    "import findspark\n",
    "findspark.init()\n",
    "\n",
    "import pyspark\n",
    "sc = pyspark.SparkContext.getOrCreate()\n",
    "\n",
    "usersRDD = sc.textFile(\"Users.xml\").map(lambda x: x.split(\"\\<row\")[0]).filter(lambda x: \"CreationDate=\\\"2017\" in x).map(lambda x: x.split(\"\\\"\")).filter(lambda x: len(x) > 6).map(lambda x: x[7]).collect()\n",
    "print(len(usersRDD))"
   ]
  },
  {
   "cell_type": "code",
   "execution_count": null,
   "metadata": {},
   "outputs": [],
   "source": []
  }
 ],
 "metadata": {
  "kernelspec": {
   "display_name": "Python 2",
   "language": "python",
   "name": "python2"
  },
  "language_info": {
   "codemirror_mode": {
    "name": "ipython",
    "version": 2
   },
   "file_extension": ".py",
   "mimetype": "text/x-python",
   "name": "python",
   "nbconvert_exporter": "python",
   "pygments_lexer": "ipython2",
   "version": "2.7.15+"
  }
 },
 "nbformat": 4,
 "nbformat_minor": 2
}
